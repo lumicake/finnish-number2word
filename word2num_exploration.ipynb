{
 "cells": [
  {
   "cell_type": "code",
   "execution_count": 1,
   "metadata": {},
   "outputs": [],
   "source": [
    "FINNISH_NUM2WORDS = {\n",
    "    1: 'yksi',\n",
    "    2: 'kaksi',\n",
    "    3: 'kolme',\n",
    "    4: 'neljä',\n",
    "    5: 'viisi',\n",
    "    6: 'kuusi',\n",
    "    7: 'seitsemän',\n",
    "    8: 'kahdeksan',\n",
    "    9: 'yhdeksän',\n",
    "    10: 'kymmenen'\n",
    "}"
   ]
  },
  {
   "cell_type": "code",
   "execution_count": 2,
   "metadata": {},
   "outputs": [],
   "source": [
    "PLACE_WORDS = {\n",
    "    0: {'plural': '', 'singular': ''},\n",
    "    1: {'plural': 'tuhatta', 'singular': 'tuhat'},\n",
    "    2: {'plural': 'miljoonaa', 'singular': 'miljoona'},\n",
    "    3: {'plural': 'miljardia', 'singular': 'miljardi'},\n",
    "    4: {'plural': 'biljoonaa', 'singular': 'biljoona'},\n",
    "    5: {'plural': 'biljardia', 'singular': 'biljardi'},\n",
    "    6: {'plural': 'triljoonaa', 'singular': 'triljoona'},\n",
    "    7: {'plural': 'triljardia', 'singular': 'triljardi'},\n",
    "    8: {'plural': 'kvadriljoonaa', 'singular': 'kvadriljoona'},\n",
    "    9: {'plural': 'kvadriljardia', 'singular': 'kvadriljardi'},\n",
    "    10: {'plural': 'kvintiljoonaa', 'singular': 'kvintiljoona'},\n",
    "    11: {'plural': 'kvintiljardia', 'singular': 'kvintiljardi'},\n",
    "    12: {'plural': 'sekstiljoonaa', 'singular': 'sekstiljoona'},\n",
    "    13: {'plural': 'sekstiljardia', 'singular': 'sekstiljardi'},\n",
    "    14: {'plural': 'septiljoonaa', 'singular': 'septiljoona'},\n",
    "    15: {'plural': 'septiljardia', 'singular': 'septiljardi'},\n",
    "    16: {'plural': 'oktiljoonaa', 'singular': 'oktiljoona'},\n",
    "    17: {'plural': 'oktiljardia', 'singular': 'oktiljardi'},\n",
    "    18: {'plural': 'noviljoonaa', 'singular': 'noviljoona'},\n",
    "    19: {'plural': 'noviljardia', 'singular': 'noviljardi'},\n",
    "    20: {'plural': 'dekiljoonaa', 'singular': 'dekiljoona'},\n",
    "    21: {'plural': 'dekiljardia', 'singular': 'dekiljardi'},\n",
    "    22: {'plural': 'undekiljoonaa', 'singular': 'undekiljoona'},\n",
    "    23: {'plural': 'undekiljardia', 'singular': 'undekiljardi'},\n",
    "    24: {'plural': 'duodekiljoonaa', 'singular': 'duodekiljoona'},\n",
    "    25: {'plural': 'duodekiljardia', 'singular': 'duodekiljardi'},\n",
    "    26: {'plural': 'tredekiljoonaa', 'singular': 'tredekiljoona'},\n",
    "    27: {'plural': 'tredekiljardia', 'singular': 'tredekiljardi'},\n",
    "    28: {'plural': 'kvattuordekiljoonaa', 'singular': 'kvattuordekiljoona'},\n",
    "    29: {'plural': 'kvattuordekiljardia', 'singular': 'kvattuordekiljardi'},\n",
    "    30: {'plural': 'kvindekiljoonaa', 'singular': 'kvindekiljoona'},\n",
    "    31: {'plural': 'kvindekiljardia', 'singular': 'kvindekiljardi'},\n",
    "    32: {'plural': 'sedekiljoonaa', 'singular': 'sedekiljoona'},\n",
    "    33: {'plural': 'sedekiljardia', 'singular': 'sedekiljardi'},\n",
    "    34: {'plural': 'septendekiljoonaa', 'singular': 'septendekiljoona'},\n",
    "    35: {'plural': 'septendekiljardia', 'singular': 'septendekiljardi'},\n",
    "    36: {'plural': 'duodevigintiljoonaa', 'singular': 'duodevigintiljoona'},\n",
    "    37: {'plural': 'duodevigintiljardia', 'singular': 'duodevigintiljardi'}\n",
    "}"
   ]
  },
  {
   "cell_type": "code",
   "execution_count": 3,
   "metadata": {},
   "outputs": [],
   "source": [
    "def tens(number):\n",
    "    if number > 19:\n",
    "        return f'{FINNISH_NUM2WORDS[number//10]}kymmentä'\n",
    "    elif number > 10:\n",
    "        return f'{FINNISH_NUM2WORDS[number-10]}toista'\n",
    "    else:\n",
    "        return f'{FINNISH_NUM2WORDS[number]}'"
   ]
  },
  {
   "cell_type": "code",
   "execution_count": 4,
   "metadata": {},
   "outputs": [],
   "source": [
    "def singles(number):\n",
    "    if number != 0:\n",
    "        return f'{FINNISH_NUM2WORDS[number]}'\n",
    "    return ''"
   ]
  },
  {
   "cell_type": "code",
   "execution_count": 5,
   "metadata": {},
   "outputs": [],
   "source": [
    "def hundreds(number):\n",
    "    if number > 1:\n",
    "        return f'{FINNISH_NUM2WORDS[number]}sataa'\n",
    "    else:\n",
    "        return 'sata'"
   ]
  },
  {
   "cell_type": "code",
   "execution_count": 6,
   "metadata": {},
   "outputs": [],
   "source": [
    "def thousands(number):\n",
    "    if number > 1:\n",
    "        return f'{FINNISH_NUM2WORDS[number]}tuhatta'\n",
    "    else:\n",
    "        return 'tuhat'"
   ]
  },
  {
   "cell_type": "code",
   "execution_count": 7,
   "metadata": {},
   "outputs": [],
   "source": [
    "def build_string(digits, place):\n",
    "    len_num = len(digits)\n",
    "    num_string = ''\n",
    "    is_between_10_and_19 = int(digits[-2:]) > 9 and int(digits[-2:]) < 20\n",
    "    is_divisible_by_10 = int(digits) % 10 == 0\n",
    "    is_place_gt_0_and_number_1 = int(digits) == 1 and place > 0\n",
    "    if not is_between_10_and_19 and not is_divisible_by_10 and not is_place_gt_0_and_number_1:\n",
    "        num_string = f'{singles(int(digits[-1]))}'\n",
    "    \n",
    "    if len_num >= 2 and int(digits[-2:]) > 9 and int(digits) % 100 != 0:\n",
    "        num_string = f'{tens(int(digits[-2:]))}{num_string}'\n",
    "        \n",
    "    if len_num >= 3 and int(digits) > 99:\n",
    "        num_string = f'{hundreds(int(digits[-3]))}{num_string}'\n",
    "    \n",
    "    if len_num >= 1 and int(digits) >= 1:\n",
    "        type = 'singular' if int(digits) == 1 else 'plural' \n",
    "        num_string = f'{num_string}{PLACE_WORDS[place][type]}'\n",
    "    return num_string"
   ]
  },
  {
   "cell_type": "code",
   "execution_count": 8,
   "metadata": {},
   "outputs": [],
   "source": [
    "def spell_number(num):\n",
    "    str_num = str(num)\n",
    "    len_num = len(str_num)\n",
    "    \n",
    "    offset = 1\n",
    "    splits = (len_num // 3) + 1\n",
    "    num_part = str_num[-3:len(str_num)]\n",
    "    \n",
    "    num_str = f''\n",
    "    while num_part:\n",
    "        num_str = f'{build_string(num_part, offset - 1)}{num_str}'\n",
    "        splits -= 1\n",
    "        offset += 1\n",
    "        num_part = str_num[-3*offset:-3*(offset-1)]\n",
    "    return num_str"
   ]
  }
 ],
 "metadata": {
  "kernelspec": {
   "display_name": "Python 3",
   "language": "python",
   "name": "python3"
  },
  "language_info": {
   "codemirror_mode": {
    "name": "ipython",
    "version": 3
   },
   "file_extension": ".py",
   "mimetype": "text/x-python",
   "name": "python",
   "nbconvert_exporter": "python",
   "pygments_lexer": "ipython3",
   "version": "3.6.4"
  }
 },
 "nbformat": 4,
 "nbformat_minor": 2
}
